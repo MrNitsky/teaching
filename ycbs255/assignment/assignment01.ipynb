{
 "cells": [
  {
   "cell_type": "markdown",
   "metadata": {},
   "source": [
    "# In this assignment you need:\n",
    "Download income2.csv from http://www-bcf.usc.edu/~gareth/ISL/Income2.csv\n",
    "\n",
    "\n",
    "\n",
    "\n",
    "1.\tExplore the data through various figures.\n",
    "2.\tPredict “y = Income” as a linear function of “x = Years of Education” using simple linear regression, and predict Income for a new individual with “x = 18”.\n",
    "3.\tShow the scatter plot of Income versus Years of Education, and add the fitted line over the scatter plot.   \n",
    "4.\tPredict “y = Income” as a linear function of “x1 = Years of Education” and “x2 = Seniority” for a new individual with (x1 = 18, x2 = 60)\n",
    "5.\tDiscuss “Years of Education” is a stronger predictor of “Income”  or “Seniority”? Why?\n"
   ]
  },
  {
   "cell_type": "code",
   "execution_count": null,
   "metadata": {
    "collapsed": true
   },
   "outputs": [],
   "source": [
    "#Load the The data \n"
   ]
  },
  {
   "cell_type": "markdown",
   "metadata": {},
   "source": [
    "## 1.\tExplore the data through various figures.\n"
   ]
  },
  {
   "cell_type": "code",
   "execution_count": null,
   "metadata": {
    "collapsed": true
   },
   "outputs": [],
   "source": [
    "#CODE HERE"
   ]
  },
  {
   "cell_type": "markdown",
   "metadata": {},
   "source": [
    "## 2.\tPredict “y = Income” as a linear function of “x = Years of Education” using simple linear regression, and predict Income for a new individual with “x = 18”.\n"
   ]
  },
  {
   "cell_type": "code",
   "execution_count": null,
   "metadata": {
    "collapsed": true
   },
   "outputs": [],
   "source": [
    "#CODE HERE"
   ]
  },
  {
   "cell_type": "markdown",
   "metadata": {},
   "source": [
    "\n",
    "## 3.\tShow the scatter plot of Income versus Years of Education, and add the fitted line over the scatter plot.   \n"
   ]
  },
  {
   "cell_type": "code",
   "execution_count": null,
   "metadata": {
    "collapsed": true
   },
   "outputs": [],
   "source": [
    "#CODE HERE"
   ]
  },
  {
   "cell_type": "markdown",
   "metadata": {},
   "source": [
    "## 4.\tPredict “y = Income” as a linear function of “x1 = Years of Education” and “x2 = Seniority” for a new individual with (x1 = 18, x2 = 60)\n"
   ]
  },
  {
   "cell_type": "code",
   "execution_count": null,
   "metadata": {
    "collapsed": true
   },
   "outputs": [],
   "source": [
    "#CODE HERE"
   ]
  },
  {
   "cell_type": "markdown",
   "metadata": {},
   "source": [
    "## 5.\tDiscuss “Years of Education” is a stronger predictor of “Income”  or “Seniority”? Why?\n"
   ]
  },
  {
   "cell_type": "code",
   "execution_count": null,
   "metadata": {
    "collapsed": true
   },
   "outputs": [],
   "source": [
    "#Comments here "
   ]
  },
  {
   "cell_type": "code",
   "execution_count": null,
   "metadata": {
    "collapsed": true
   },
   "outputs": [],
   "source": []
  }
 ],
 "metadata": {
  "kernelspec": {
   "display_name": "Python 3",
   "language": "python",
   "name": "python3"
  },
  "language_info": {
   "codemirror_mode": {
    "name": "ipython",
    "version": 3
   },
   "file_extension": ".py",
   "mimetype": "text/x-python",
   "name": "python",
   "nbconvert_exporter": "python",
   "pygments_lexer": "ipython3",
   "version": "3.6.3"
  }
 },
 "nbformat": 4,
 "nbformat_minor": 2
}
