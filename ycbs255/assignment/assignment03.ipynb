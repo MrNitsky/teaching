{
 "cells": [
  {
   "cell_type": "markdown",
   "metadata": {},
   "source": [
    "# Assignment 3\n",
    "- Donwload  ziptrain.csv and ziptest.csv datasets from  https://github.com/vahidpartovinia/ycbs255/\n",
    "\n",
    "# 1- Differentiate digit 2 from Digit 7\n",
    "## 1.1- Two principal components\n",
    "- Select only digit 2, and digit 7 from ziptrain data set. \n",
    "- Project ziprain onto two principal components\n",
    "- Make a scatterplot to confirm wheather or not only two principal components separates digit 2 from digit 7.\n",
    "\n",
    "## 1.2- Logistic regression\n",
    "- Fit a logistic regression to separate digit 2 from digit 7 over the projected 2 principal components.  Remember in logistic regression, classes are differentiated using 0 and 1 (and not 2 or 7).\n",
    "- Build the confusion matrix on ziptest and check how well the model works on the test data.\n",
    "\n",
    "# 2 -Multiple principal components\n",
    "- Project train data onto \"m = 2, 3, ...\" principal components.\n",
    "- Choose an \"m\" so that the classification of digit 2 and 7 is the most precise on ziptest.\n",
    "\n",
    "# 3-Differentiate all digits \n",
    "- Project ziprain onto two principal components\n",
    "- Make a scatterplot to confirm wheather or not only two principal components separates all digits properly.\n",
    "- Use linear discriminant on ziptrain over 256 original pixels and build the confusion matrix of this model over ziptrain\n",
    "- Use linear disciminant over \"m\" projected principal components, with the appropriate choice of \"m\" (where the precision of prediction maximizes over ziptest data set).\n",
    "\n",
    "\n",
    "# Submission note\n",
    "Please fill this jupyter notebook. Extract the pdf file as follows. On  Jupyter manue go to File/Print Preview, then on Browser menu go to File/Print. \n",
    "\n",
    "## Only PDF  Submissions will be graded\n"
   ]
  },
  {
   "cell_type": "code",
   "execution_count": null,
   "metadata": {
    "collapsed": true
   },
   "outputs": [],
   "source": []
  }
 ],
 "metadata": {
  "kernelspec": {
   "display_name": "Python 3",
   "language": "python",
   "name": "python3"
  },
  "language_info": {
   "codemirror_mode": {
    "name": "ipython",
    "version": 3
   },
   "file_extension": ".py",
   "mimetype": "text/x-python",
   "name": "python",
   "nbconvert_exporter": "python",
   "pygments_lexer": "ipython3",
   "version": "3.6.3"
  }
 },
 "nbformat": 4,
 "nbformat_minor": 2
}
